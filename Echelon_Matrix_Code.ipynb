{
 "cells": [
  {
   "cell_type": "code",
   "execution_count": 1,
   "metadata": {},
   "outputs": [
    {
     "name": "stdout",
     "output_type": "stream",
     "text": [
      "Matrix : Matrix([[1, 1, 5, 3], [2, 3, -3, 7], [-1, -2, -3, -4]]) \n",
      "The Row echelon form of matrix M along with there pivots are : (Matrix([\n",
      "[1, 0, 0, 2],\n",
      "[0, 1, 0, 1],\n",
      "[0, 0, 1, 0]]), (0, 1, 2))\n"
     ]
    }
   ],
   "source": [
    "# import sympy  \n",
    "from sympy import * #With the help of sympy.Matrix().rref() method, matrix can be  reduced into Row echelon form.\n",
    "  \n",
    "A = Matrix([[1, 1, 5, 3],\n",
    "            [2, 3, -3, 7],\n",
    "            [-1, -2, -3, -4]]) \n",
    "print(\"Matrix : {} \".format(A)) \n",
    "   \n",
    "# Use sympy.rref() method which will return  a tuple of which first element is of type Matrix and second one is of type tuple. \n",
    "A_rref = A.rref()   \n",
    "      \n",
    "print(\"The Row echelon form of matrix M along with there pivots are : {}\".format(A_rref))   \n"
   ]
  },
  {
   "cell_type": "code",
   "execution_count": null,
   "metadata": {},
   "outputs": [],
   "source": []
  }
 ],
 "metadata": {
  "kernelspec": {
   "display_name": "Python 3",
   "language": "python",
   "name": "python3"
  },
  "language_info": {
   "codemirror_mode": {
    "name": "ipython",
    "version": 3
   },
   "file_extension": ".py",
   "mimetype": "text/x-python",
   "name": "python",
   "nbconvert_exporter": "python",
   "pygments_lexer": "ipython3",
   "version": "3.8.3"
  }
 },
 "nbformat": 4,
 "nbformat_minor": 4
}
